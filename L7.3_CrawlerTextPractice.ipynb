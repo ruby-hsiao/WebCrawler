{
 "cells": [
  {
   "cell_type": "code",
   "execution_count": 13,
   "id": "c40412d4",
   "metadata": {},
   "outputs": [],
   "source": [
    "from selenium import webdriver\n",
    "from selenium.webdriver.chrome.service import Service\n",
    "from selenium.webdriver.common.by import By\n",
    "from selenium.webdriver.chrome.options import Options #抓Chrome原始設定\n",
    "from selenium.webdriver.support.wait import WebDriverWait #類似timer.sleep\n",
    "from selenium.webdriver.support import expected_conditions as EC #幫忙做判斷檢查目標是否符合需求 return T/F\n",
    "from selenium.webdriver.common.keys import Keys #Enter Shift 功能鍵執行\n",
    "from selenium.webdriver.support.ui import Select\n",
    "\n",
    "\n",
    "# close the pop up msg\n",
    "option = webdriver.ChromeOptions() #儲存原廠設定\n",
    "prefs_new = {\"profile.default_content_setting_values\":{\"notifications\":2}} #禁止網站傳送設定2\n",
    "option.add_experimental_option(\"prefs\",prefs_new) #修改成禁止網站傳送設定2\n",
    "\n",
    "driver = webdriver.Chrome(service=Service(\"C:\\\\Users\\\\User\\\\chromedriver.exe\"), options=option)\n",
    "driver.get(\"https://web3.dgpa.gov.tw/want03front/AP/WANTF00001.ASPX?uid=33\")\n",
    "\n",
    "# 抓取下拉選單元件\n",
    "select = Select(driver.find_element(By.CSS_SELECTOR, 'select[id=\"ctl00_ContentPlaceHolder1_drpWORK_PLACE\"]'))\n",
    "select.select_by_value(\"23\") \n",
    "driver.find_element(By.CSS_SELECTOR, 'input[id=\"ctl00_ContentPlaceHolder1_IS_NOT_OFFICE\"]').click()\n",
    "driver.find_element(By.CSS_SELECTOR, 'input[id=\"ctl00_ContentPlaceHolder1_btnQUERY\"]').click()\n",
    "    "
   ]
  },
  {
   "cell_type": "code",
   "execution_count": 32,
   "id": "cc6669f4",
   "metadata": {},
   "outputs": [
    {
     "name": "stdout",
     "output_type": "stream",
     "text": [
      "\n",
      "\t行政院人事行政總處事求人機關徵才系統\n",
      "\n"
     ]
    },
    {
     "ename": "IndexError",
     "evalue": "list index out of range",
     "output_type": "error",
     "traceback": [
      "\u001b[1;31m---------------------------------------------------------------------------\u001b[0m",
      "\u001b[1;31mIndexError\u001b[0m                                Traceback (most recent call last)",
      "Cell \u001b[1;32mIn[32], line 19\u001b[0m\n\u001b[0;32m     16\u001b[0m num \u001b[38;5;241m=\u001b[39m \u001b[38;5;241m0\u001b[39m\n\u001b[0;32m     17\u001b[0m listLength \u001b[38;5;241m=\u001b[39m \u001b[38;5;28mlen\u001b[39m(p_names)\n\u001b[1;32m---> 19\u001b[0m \u001b[38;5;28mprint\u001b[39m(p_names[\u001b[38;5;241m15\u001b[39m])\n\u001b[0;32m     20\u001b[0m \u001b[38;5;66;03m#print(p_names[0].text, p_govs[0].text, p_levels[0].text, p_locations[0].text, p_periods[0].text)\u001b[39;00m\n\u001b[0;32m     21\u001b[0m \u001b[38;5;124;03m'''\u001b[39;00m\n\u001b[0;32m     22\u001b[0m \u001b[38;5;124;03mfor i in range(0, 3):\u001b[39;00m\n\u001b[0;32m     23\u001b[0m \u001b[38;5;124;03m    num += 1\u001b[39;00m\n\u001b[0;32m     24\u001b[0m \u001b[38;5;124;03m    print(str(num), p_names[i].text, p_govs[i].text, p_levels[i].text, p_locations[i].text, p_periods[i].text)\u001b[39;00m\n\u001b[0;32m     25\u001b[0m \u001b[38;5;124;03m'''\u001b[39;00m\n",
      "\u001b[1;31mIndexError\u001b[0m: list index out of range"
     ]
    }
   ],
   "source": [
    "from bs4 import BeautifulSoup\n",
    "from time import sleep\n",
    "\n",
    "soup = BeautifulSoup(driver.page_source, \"html.parser\")\n",
    "title = soup.title\n",
    "print(title.text)\n",
    "\n",
    "p_names = soup.find_all(class_=\"col-lg-2 col-md-2 col-sm-10 col-xs-11 md_block_bold\")\n",
    "p_govs= soup.find_all(class_=\"col-lg-2 col-md-2 col-sm-10  col-xs-11 md_red\")\n",
    "\n",
    "p_levels = soup.find_all(class_=\"col-lg-2 col-md-2 md_hide\")\n",
    "p_locations = soup.find_all(class_=\"col-lg-2 col-md-2 md_hide\")\n",
    "p_periods = soup.find_all(class_=\"col-lg-2 col-md-2 md_hide\")\n",
    "\n",
    "i = 0\n",
    "num = 0\n",
    "listLength = len(p_names)\n",
    "\n",
    "print(p_names[15])\n",
    "#print(p_names[0].text, p_govs[0].text, p_levels[0].text, p_locations[0].text, p_periods[0].text)\n",
    "'''\n",
    "for i in range(0, 3):\n",
    "    num += 1\n",
    "    print(str(num), p_names[i].text, p_govs[i].text, p_levels[i].text, p_locations[i].text, p_periods[i].text)\n",
    "'''"
   ]
  },
  {
   "cell_type": "code",
   "execution_count": null,
   "id": "902821d7",
   "metadata": {},
   "outputs": [],
   "source": []
  }
 ],
 "metadata": {
  "kernelspec": {
   "display_name": "Python 3 (ipykernel)",
   "language": "python",
   "name": "python3"
  },
  "language_info": {
   "codemirror_mode": {
    "name": "ipython",
    "version": 3
   },
   "file_extension": ".py",
   "mimetype": "text/x-python",
   "name": "python",
   "nbconvert_exporter": "python",
   "pygments_lexer": "ipython3",
   "version": "3.11.5"
  }
 },
 "nbformat": 4,
 "nbformat_minor": 5
}
