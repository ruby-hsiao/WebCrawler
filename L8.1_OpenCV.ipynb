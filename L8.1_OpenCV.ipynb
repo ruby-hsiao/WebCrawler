{
 "cells": [
  {
   "cell_type": "code",
   "execution_count": 2,
   "id": "c90c42bd-85fa-42f6-a32a-403707fca361",
   "metadata": {},
   "outputs": [
    {
     "name": "stdout",
     "output_type": "stream",
     "text": [
      "Requirement already satisfied: opencv_python in c:\\users\\user\\anaconda3\\lib\\site-packages (4.9.0.80)\n",
      "Requirement already satisfied: numpy>=1.21.2 in c:\\users\\user\\anaconda3\\lib\\site-packages (from opencv_python) (1.26.4)\n"
     ]
    }
   ],
   "source": [
    "!pip install opencv_python"
   ]
  },
  {
   "cell_type": "code",
   "execution_count": 2,
   "id": "00939a64-3d1b-448d-94fe-d021b1f18c89",
   "metadata": {},
   "outputs": [
    {
     "data": {
      "text/plain": [
       "-1"
      ]
     },
     "execution_count": 2,
     "metadata": {},
     "output_type": "execute_result"
    }
   ],
   "source": [
    "import cv2\n",
    "\n",
    "img = cv2.imread(\"face.jpg\")\n",
    "#print(type(img)) #<class 'numpy type'>\n",
    "\n",
    "gray = cv2.cvtColor(img, cv2.COLOR_BGR2GRAY) # 將圖片轉為灰階, 灰階節省演算效能\n"
   ]
  },
  {
   "cell_type": "code",
   "execution_count": 20,
   "id": "8eebf010-792c-4048-ac53-b2b673a6260b",
   "metadata": {},
   "outputs": [
    {
     "name": "stdout",
     "output_type": "stream",
     "text": [
      "[[136 560  31  31]\n",
      " [658 433  55  55]\n",
      " [527 295  61  61]\n",
      " [ 56 343  65  65]\n",
      " [184 304  60  60]\n",
      " [771 353  72  72]\n",
      " [307 307  59  59]\n",
      " [384 349  56  56]\n",
      " [493 365  65  65]\n",
      " [233 369  65  65]\n",
      " [611 315  68  68]\n",
      " [466 253  73  73]]\n"
     ]
    },
    {
     "data": {
      "text/plain": [
       "-1"
      ]
     },
     "execution_count": 20,
     "metadata": {},
     "output_type": "execute_result"
    }
   ],
   "source": [
    "# 分類器模型 - 串聯分類器物件:切割範圍，演算是否有眼睛、臉的弧線等條件判斷\n",
    "\n",
    "faceCascade = cv2.CascadeClassifier(\"haarcascade_frontalface_default.xml\")\n",
    "#faceCascade = cv2.CascadeClassifier(r'C:\\Users\\User\\anaconda3\\Lib\\site-packages\\cv2\\data\\haarcascade_frontalface_default.xml')\n",
    "\n",
    "# 偵測複數人臉範圍，得到為臉的範圍 list\n",
    "faces = faceCascade.detectMultiScale(\n",
    "    gray,\n",
    "    scaleFactor=1.12,\n",
    "    minNeighbors=3,\n",
    "    minSize=(5,5)\n",
    ")\n",
    "\n",
    "print(faces)\n",
    "'''\n",
    "for face in faces:\n",
    "    print(face[0])\n",
    "    break\n",
    "    \n",
    "for (x,y,w,h) in faces:\n",
    "    print(x,y,w,h)\n",
    "    break\n",
    "'''\n",
    "\n",
    "# 畫製人臉方框\n",
    "i = 0\n",
    "for (x,y,w,h) in faces:   \n",
    "    if i % 2 == 0:\n",
    "        cv2.rectangle(img, (x,y), (x+w, y+h), (0,255,0), 3)\n",
    "    else:\n",
    "        cv2.rectangle(img, (x,y), (x+w, y+w), (0,0,255), 3)\n",
    "    i += 1\n",
    "\n",
    "cv2.imshow(\"test\", img)\n",
    "cv2.waitKey()\n"
   ]
  },
  {
   "cell_type": "code",
   "execution_count": null,
   "id": "aafceb81",
   "metadata": {},
   "outputs": [],
   "source": [
    "# imshow(title, img obj) 不要直接執行\n",
    "cv2.imshow(\"test\", gray)\n",
    "\n",
    "cv2.waitKey() #暫停一下讓人與視窗互動的時間，不填時間就是等人關閉視窗"
   ]
  },
  {
   "cell_type": "code",
   "execution_count": 3,
   "id": "a722252b",
   "metadata": {},
   "outputs": [
    {
     "name": "stdout",
     "output_type": "stream",
     "text": [
      "C:\\Users\\User\\anaconda3\\Lib\\site-packages\\cv2\\__init__.py\n"
     ]
    }
   ],
   "source": [
    "print(cv2.__file__)"
   ]
  }
 ],
 "metadata": {
  "kernelspec": {
   "display_name": "Python 3 (ipykernel)",
   "language": "python",
   "name": "python3"
  },
  "language_info": {
   "codemirror_mode": {
    "name": "ipython",
    "version": 3
   },
   "file_extension": ".py",
   "mimetype": "text/x-python",
   "name": "python",
   "nbconvert_exporter": "python",
   "pygments_lexer": "ipython3",
   "version": "3.11.7"
  }
 },
 "nbformat": 4,
 "nbformat_minor": 5
}
