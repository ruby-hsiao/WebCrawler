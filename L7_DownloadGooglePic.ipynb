{
 "cells": [
  {
   "cell_type": "code",
   "execution_count": 1,
   "id": "61bec52c",
   "metadata": {},
   "outputs": [
    {
     "name": "stdout",
     "output_type": "stream",
     "text": [
      "Requirement already satisfied: selenium in c:\\users\\user\\anaconda3\\lib\\site-packages (4.18.1)\n",
      "Requirement already satisfied: urllib3[socks]<3,>=1.26 in c:\\users\\user\\anaconda3\\lib\\site-packages (from selenium) (1.26.16)\n",
      "Requirement already satisfied: trio~=0.17 in c:\\users\\user\\anaconda3\\lib\\site-packages (from selenium) (0.24.0)\n",
      "Requirement already satisfied: trio-websocket~=0.9 in c:\\users\\user\\anaconda3\\lib\\site-packages (from selenium) (0.11.1)\n",
      "Requirement already satisfied: certifi>=2021.10.8 in c:\\users\\user\\anaconda3\\lib\\site-packages (from selenium) (2023.7.22)\n",
      "Requirement already satisfied: typing_extensions>=4.9.0 in c:\\users\\user\\anaconda3\\lib\\site-packages (from selenium) (4.9.0)\n",
      "Requirement already satisfied: attrs>=20.1.0 in c:\\users\\user\\anaconda3\\lib\\site-packages (from trio~=0.17->selenium) (22.1.0)\n",
      "Requirement already satisfied: sortedcontainers in c:\\users\\user\\anaconda3\\lib\\site-packages (from trio~=0.17->selenium) (2.4.0)\n",
      "Requirement already satisfied: idna in c:\\users\\user\\anaconda3\\lib\\site-packages (from trio~=0.17->selenium) (3.4)\n",
      "Requirement already satisfied: outcome in c:\\users\\user\\anaconda3\\lib\\site-packages (from trio~=0.17->selenium) (1.3.0.post0)\n",
      "Requirement already satisfied: sniffio>=1.3.0 in c:\\users\\user\\anaconda3\\lib\\site-packages (from trio~=0.17->selenium) (1.3.0)\n",
      "Requirement already satisfied: cffi>=1.14 in c:\\users\\user\\anaconda3\\lib\\site-packages (from trio~=0.17->selenium) (1.15.1)\n",
      "Requirement already satisfied: wsproto>=0.14 in c:\\users\\user\\anaconda3\\lib\\site-packages (from trio-websocket~=0.9->selenium) (1.2.0)\n",
      "Requirement already satisfied: PySocks!=1.5.7,<2.0,>=1.5.6 in c:\\users\\user\\anaconda3\\lib\\site-packages (from urllib3[socks]<3,>=1.26->selenium) (1.7.1)\n",
      "Requirement already satisfied: pycparser in c:\\users\\user\\anaconda3\\lib\\site-packages (from cffi>=1.14->trio~=0.17->selenium) (2.21)\n",
      "Requirement already satisfied: h11<1,>=0.9.0 in c:\\users\\user\\anaconda3\\lib\\site-packages (from wsproto>=0.14->trio-websocket~=0.9->selenium) (0.14.0)\n"
     ]
    }
   ],
   "source": [
    "!pip install selenium"
   ]
  },
  {
   "cell_type": "code",
   "execution_count": 14,
   "id": "b77b0e4b",
   "metadata": {},
   "outputs": [
    {
     "name": "stdout",
     "output_type": "stream",
     "text": [
      "https://www.google.com/imgres?imgurl=https%3A%2F%2Fwx4.sinaimg.cn%2Flarge%2F001Na93Ily1hlpgk4jwyvj63ux5kab2c02.jpg&tbnid=uLPhdASScYMt1M&vet=12ahUKEwidzqHWu8WEAxU81jQHHadhA6EQMygAegQIARBG..i&imgrefurl=https%3A%2F%2Fportal.sina.com.hk%2Fentertainment%2Fweibosinaent%2F2024%2F01%2F11%2F703778%2F%25E9%259B%25BB%25E5%25BD%25B1%25E7%2586%25B1%25E8%25BE%25A3%25E6%25BB%25BE%25E7%2587%2599%25E5%25AE%259A%25E6%25AA%2594%2F&docid=N-9UzgTD3VW7tM&w=5001&h=7210&q=%E7%86%B1%E8%BE%A3%E6%BB%BE%E7%87%99&hl=zh-TW&ved=2ahUKEwidzqHWu8WEAxU81jQHHadhA6EQMygAegQIARBG\n",
      "https://www.google.com/imgres?imgurl=http%3A%2F%2Fwww.xinhuanet.com%2Fent%2F20240219%2Fbe535793c70c4a18b86da900dc9818a5%2F20240219be535793c70c4a18b86da900dc9818a5_202402190ca2eca5ed2a46938899a3750eaaad37.jpg&tbnid=wA6AWoGlPxz_7M&vet=12ahUKEwidzqHWu8WEAxU81jQHHadhA6EQMygBegQIARBI..i&imgrefurl=http%3A%2F%2Fbig5.news.cn%2Fgate%2Fbig5%2Fwww.xinhuanet.com%2Fent%2F20240219%2Fbe535793c70c4a18b86da900dc9818a5%2Fc.html&docid=x7fLTQHaHTAREM&w=993&h=827&itg=1&q=%E7%86%B1%E8%BE%A3%E6%BB%BE%E7%87%99&hl=zh-TW&ved=2ahUKEwidzqHWu8WEAxU81jQHHadhA6EQMygBegQIARBI\n",
      "https://www.google.com/imgres?imgurl=http%3A%2F%2Fn.sinaimg.cn%2Fsinakd20240116s%2F500%2Fw820h1280%2F20240116%2F3ca1-09bf8c64e8e1f17aabd8b536a2a685d4.jpg&tbnid=KdqvcPwdrVnW7M&vet=12ahUKEwidzqHWu8WEAxU81jQHHadhA6EQMygCegQIARBL..i&imgrefurl=https%3A%2F%2Fportal.sina.com.hk%2Fnews-china%2Fsina%2F2024%2F01%2F16%2F709907%2F%25E8%25B3%2588%25E7%258E%25B2%25E6%2596%25B0%25E4%25BD%259C%25E3%2580%258A%25E7%2586%25B1%25E8%25BE%25A3%25E6%25BB%25BE%25E7%2587%2599%25E3%2580%258B%25E6%259B%259D%25E6%2596%25B0%25E9%25A0%2590%25E5%2591%258A%25EF%25BC%258C%25E9%259B%25B7%25E4%25BD%25B3%25E9%259F%25B3%25E7%25A8%25B1%25E9%259B%25BB%25E5%25BD%25B1%25E6%259C%2583%2F&docid=la5Wy9j1l2GN8M&w=820&h=1280&q=%E7%86%B1%E8%BE%A3%E6%BB%BE%E7%87%99&hl=zh-TW&ved=2ahUKEwidzqHWu8WEAxU81jQHHadhA6EQMygCegQIARBL\n",
      "https://www.google.com/imgres?imgurl=https%3A%2F%2Fcdn.hk01.com%2Fdi%2Fmedia%2Fimages%2Fdw%2F20240216%2F835224404970442752470325.jpeg%2FALf5r5TMteIaATv_vE3PtnHVAWGEzYHYBh6cewYenHs%3Fv%3Dw1920r16_9&tbnid=A_fIPUjZE2aRdM&vet=12ahUKEwidzqHWu8WEAxU81jQHHadhA6EQMygDegQIARBN..i&imgrefurl=https%3A%2F%2Fwww.hk01.com%2F%25E5%25A4%25A7%25E5%259C%258B%25E5%25B0%258F%25E4%25BA%258B%2F991237%2F%25E7%2586%25B1%25E8%25BE%25A3%25E6%25BB%25BE%25E7%2587%2599-%25E8%25B3%2588%25E7%258E%25B2%25E6%2580%258E%25E6%25BC%2594%25E4%25B9%259F%25E4%25B8%258D%25E5%258F%258A%25E5%25AE%2589%25E8%2597%25A4%25E6%25AB%25BB-%25E5%258A%2587%25E7%2583%2588%25E6%25B8%259B%25E8%2582%25A5%25E7%259A%2584%25E5%25A5%25B9%25E5%258D%25BB%25E6%25BC%2594%25E6%25B4%25BB%25E5%258F%25A6%25E4%25B8%2580%25E7%25A8%25AE%25E7%25B2%25BE%25E7%25A5%259E&docid=7j_Oyenpp6FvvM&w=1800&h=1013&itg=1&q=%E7%86%B1%E8%BE%A3%E6%BB%BE%E7%87%99&hl=zh-TW&ved=2ahUKEwidzqHWu8WEAxU81jQHHadhA6EQMygDegQIARBN\n",
      "https://www.google.com/imgres?imgurl=https%3A%2F%2Fpgw.worldjournal.com%2Fgw%2Fphoto.php%3Fu%3Dhttps%3A%2F%2Fuc.udn.com.tw%2Fphoto%2Fwj%2Frealtime%2F2024%2F02%2F19%2F29000854.jpg%26x%3D0%26y%3D0%26sw%3D0%26sh%3D0%26sl%3DW%26fw%3D800%26exp%3D3600%26q%3D75&tbnid=ntyx5pwVsm0AQM&vet=12ahUKEwidzqHWu8WEAxU81jQHHadhA6EQMygEegQIARBP..i&imgrefurl=https%3A%2F%2Fwww.worldjournal.com%2Fwj%2Fstory%2F121478%2F7777065&docid=sjcz50YFoYxnWM&w=799&h=1197&itg=1&q=%E7%86%B1%E8%BE%A3%E6%BB%BE%E7%87%99&hl=zh-TW&ved=2ahUKEwidzqHWu8WEAxU81jQHHadhA6EQMygEegQIARBP\n",
      "https://www.google.com/imgres?imgurl=https%3A%2F%2Fdw-media.tkww.hk%2Fdams%2Fdwproduct%2Fimage%2F202402%2F19%2F65d28f62e4b017d96e7501ea.jpg&tbnid=9wP1cG9YR78rlM&vet=12ahUKEwidzqHWu8WEAxU81jQHHadhA6EQMygFegQIARBS..i&imgrefurl=https%3A%2F%2Fwww.tkww.hk%2Fa%2F202402%2F19%2FAP65d29152e4b0eb64da08154f.html&docid=fQ-cbglX-w8SOM&w=1500&h=1000&itg=1&q=%E7%86%B1%E8%BE%A3%E6%BB%BE%E7%87%99&hl=zh-TW&ved=2ahUKEwidzqHWu8WEAxU81jQHHadhA6EQMygFegQIARBS\n",
      "https://www.google.com/imgres?imgurl=https%3A%2F%2Fcdn-www.cw.com.tw%2Farticle%2F202402%2Farticle-65d82fecc68cb2.25178104.jpg&tbnid=7KzdyOcu5j4xdM&vet=12ahUKEwidzqHWu8WEAxU81jQHHadhA6EQMygGegQIARBV..i&imgrefurl=https%3A%2F%2Fwww.cw.com.tw%2Farticle%2F5129408&docid=sJ9UKftU36zBTM&w=1600&h=1072&itg=1&q=%E7%86%B1%E8%BE%A3%E6%BB%BE%E7%87%99&hl=zh-TW&ved=2ahUKEwidzqHWu8WEAxU81jQHHadhA6EQMygGegQIARBV\n",
      "https://www.google.com/imgres?imgurl=https%3A%2F%2Fcdn.hk01.com%2Fdi%2Fmedia%2Fimages%2Fdw%2F20240215%2F834841837213585408915472.png%2FgxvPNEs7g-ZlMvlOe1CAty-KZG0lnzkze_qK7Hv6iuw%3Fv%3Dw1920r16_9&tbnid=hsDmVI0kZmqK2M&vet=12ahUKEwidzqHWu8WEAxU81jQHHadhA6EQMygHegQIARBY..i&imgrefurl=https%3A%2F%2Fwww.hk01.com%2F%25E7%259F%25A5%25E6%2580%25A7%25E5%25A5%25B3%25E7%2594%259F%2F991066%2F%25E7%2586%25B1%25E8%25BE%25A3%25E6%25BB%25BE%25E7%2587%2599%25E7%25AA%2581%25E7%25A0%25B420%25E5%2584%2584-%25E8%25A8%258E%25E5%25A5%25BD%25E5%259E%258B%25E4%25BA%25BA%25E6%25A0%25BC%25E7%259A%2584%25E5%2585%25B1%25E9%25B3%25B4-%25E5%25B0%258D%25E4%25BA%25BA%25E6%258C%25BA%25E5%25A5%25BD%25E7%259A%2584-%25E4%25BD%2586%25E7%25B8%25BD%25E5%258F%2597%25E5%2582%25B7%25E5%25AE%25B3&docid=KSrn6yWkRJSu8M&w=1640&h=923&q=%E7%86%B1%E8%BE%A3%E6%BB%BE%E7%87%99&hl=zh-TW&ved=2ahUKEwidzqHWu8WEAxU81jQHHadhA6EQMygHegQIARBY\n",
      "https://www.google.com/imgres?imgurl=https%3A%2F%2Fcdn.hk01.com%2Fdi%2Fmedia%2Fimages%2Fdw%2F20240220%2F836713821933408256934160.jpeg%2FxaX9e2wguD2ZAzX55mOgiDSslLbovg6anAw-4JwMPuA%3Fv%3Dw1920r16_9&tbnid=H1TA8PTJ_XDXHM&vet=12ahUKEwidzqHWu8WEAxU81jQHHadhA6EQMygIegQIARBa..i&imgrefurl=https%3A%2F%2Fwww.hk01.com%2F%25E5%25A4%25A7%25E5%259C%258B%25E5%25B0%258F%25E4%25BA%258B%2F992624%2F%25E8%25B3%2588%25E7%258E%25B2%25E7%2598%25A6%25E8%25BA%25AB50kg-%25E7%2586%25B1%25E8%25BE%25A3%25E6%25BB%25BE%25E7%2587%2599-%25E8%25B3%25A3%25E7%25A0%25B427%25E5%2584%2584-%25E7%2589%2587%25E4%25B8%25AD%25E8%25B7%2591%25E6%25AD%25A5%25E7%2598%25A6%25E8%25BA%25AB%25E5%259C%25B0%25E6%2588%2590%25E6%259D%25B1%25E8%258E%259E%25E6%2589%2593%25E5%258D%25A1%25E9%25BB%259E&docid=rJne3GAAYYdywM&w=1200&h=675&itg=1&q=%E7%86%B1%E8%BE%A3%E6%BB%BE%E7%87%99&hl=zh-TW&ved=2ahUKEwidzqHWu8WEAxU81jQHHadhA6EQMygIegQIARBa\n",
      "https://www.google.com/imgres?imgurl=https%3A%2F%2Fwww.taiwanhot.net%2Fcache%2F1138070%2Flgnw%2Fmedias-20240222-65d6e66e02a42.jpg&tbnid=gDpNzoN_des6YM&vet=12ahUKEwidzqHWu8WEAxU81jQHHadhA6EQMygJegQIARBd..i&imgrefurl=https%3A%2F%2Fwww.taiwanhot.net%2Fnews%2F1060111%2F%25E5%258F%25B0%25E7%2589%2588%25E3%2580%258C%25E7%2586%25B1%25E8%25BE%25A3%25E6%25BB%25BE%25E7%2587%2599%25E3%2580%258D%25E8%25A1%258C%25E6%2583%2585%25E7%25B9%25BC%25E7%25BA%258C%25E5%25BB%25B6%25E7%2587%2592%25EF%25BC%259F&docid=KK5dFzles03-qM&w=1200&h=900&q=%E7%86%B1%E8%BE%A3%E6%BB%BE%E7%87%99&hl=zh-TW&ved=2ahUKEwidzqHWu8WEAxU81jQHHadhA6EQMygJegQIARBd\n",
      "https://www.google.com/imgres?imgurl=https%3A%2F%2Fstatic-cdn.nextapple.tw%2Fprod%2F2024-02%2FFF6C7F864255B646C52F900233E58372%2Facf984f7dad21c548f4e326f08ca065b_1280.webp&tbnid=aU9y__mQ6PQL1M&vet=12ahUKEwidzqHWu8WEAxU81jQHHadhA6EQMygKegQIARBg..i&imgrefurl=https%3A%2F%2Ftw.nextapple.com%2Fentertainment%2F20240212%2FFF6C7F864255B646C52F900233E58372&docid=qAq-NdcQzeYNyM&w=1280&h=1707&q=%E7%86%B1%E8%BE%A3%E6%BB%BE%E7%87%99&hl=zh-TW&ved=2ahUKEwidzqHWu8WEAxU81jQHHadhA6EQMygKegQIARBg\n",
      "https://www.google.com/imgres?imgurl=https%3A%2F%2Fi.ytimg.com%2Fvi%2FbBqmqHUFcuw%2Fmaxresdefault.jpg&tbnid=10xYfNTGVBAO5M&vet=12ahUKEwidzqHWu8WEAxU81jQHHadhA6EQMygLegQIARBi..i&imgrefurl=https%3A%2F%2Fwww.youtube.com%2Fwatch%3Fv%3DbBqmqHUFcuw&docid=PzqCTzZkOAWyFM&w=1280&h=720&itg=1&q=%E7%86%B1%E8%BE%A3%E6%BB%BE%E7%87%99&hl=zh-TW&ved=2ahUKEwidzqHWu8WEAxU81jQHHadhA6EQMygLegQIARBi\n",
      "https://www.google.com/imgres?imgurl=https%3A%2F%2Fi.ytimg.com%2Fvi%2FLertP2Y_Dlg%2Fmaxresdefault.jpg&tbnid=qKhA8eqkxSXG2M&vet=12ahUKEwidzqHWu8WEAxU81jQHHadhA6EQMygMegQIARBm..i&imgrefurl=https%3A%2F%2Fwww.youtube.com%2Fwatch%3Fv%3DLertP2Y_Dlg&docid=aXvr8Fv8tQhtfM&w=1280&h=720&itg=1&q=%E7%86%B1%E8%BE%A3%E6%BB%BE%E7%87%99&hl=zh-TW&ved=2ahUKEwidzqHWu8WEAxU81jQHHadhA6EQMygMegQIARBm\n",
      "https://www.google.com/imgres?imgurl=http%3A%2F%2Fn.sinaimg.cn%2Fsinakd20240122s%2F238%2Fw1080h1558%2F20240122%2F3688-a8e8f591c4c423f6f8aa2c91e4c0d264.jpg&tbnid=ZkPV1fTqrofo-M&vet=12ahUKEwidzqHWu8WEAxU81jQHHadhA6EQMygNegQIARBr..i&imgrefurl=https%3A%2F%2Fportal.sina.com.hk%2Fnews-china%2Fsina%2F2024%2F01%2F22%2F717330%2F%25E3%2580%258A%25E7%2586%25B1%25E8%25BE%25A3%25E6%25BB%25BE%25E7%2587%2599%25E3%2580%258B%25E7%2599%25BC%25E4%25BD%2588%25E6%2596%25B0%25E6%25B5%25B7%25E5%25A0%25B1%25EF%25BC%258C%25E8%25B3%2588%25E7%258E%25B2%25E3%2580%2581%25E9%259B%25B7%25E4%25BD%25B3%25E9%259F%25B3%25E9%259B%2599%25E4%25BA%25BA%25E8%25B7%25B3%25E7%25B9%25A9%2F&docid=DGD8POziVBRJqM&w=1080&h=1558&q=%E7%86%B1%E8%BE%A3%E6%BB%BE%E7%87%99&hl=zh-TW&ved=2ahUKEwidzqHWu8WEAxU81jQHHadhA6EQMygNegQIARBr\n",
      "https://www.google.com/imgres?imgurl=http%3A%2F%2Fn.sinaimg.cn%2Fsinakd20240112s%2F194%2Fw1660h934%2F20240112%2Fc39c-3336fa85f909fecb6ca9fd8268d2d9bb.jpg&tbnid=b27nJ3l7z4Q_tM&vet=12ahUKEwidzqHWu8WEAxU81jQHHadhA6EQMygOegQIARBt..i&imgrefurl=https%3A%2F%2Fportal.sina.com.hk%2Fnews-china%2Fsina%2F2024%2F01%2F12%2F705232%2F%25E3%2580%258A%25E7%2586%25B1%25E8%25BE%25A3%25E6%25BB%25BE%25E7%2587%2599%25E3%2580%258B%25E6%25AD%25A3%25E9%2581%25B8%25E9%25A0%2590%25E5%2591%258A%25E6%258B%25B3%25E6%2589%258B%25E8%25B3%2588%25E7%258E%25B2%25E8%25A8%2593%25E7%25B7%25B4%25E5%2581%25B7%25E6%2587%25B6%25EF%25BC%258C%25E6%2595%2599%25E7%25B7%25B4%25E9%259B%25B7%2F&docid=-K41eaHIYOsN9M&w=1660&h=934&q=%E7%86%B1%E8%BE%A3%E6%BB%BE%E7%87%99&hl=zh-TW&ved=2ahUKEwidzqHWu8WEAxU81jQHHadhA6EQMygOegQIARBt\n",
      "https://www.google.com/imgres?imgurl=https%3A%2F%2Flookaside.instagram.com%2Fseo%2Fgoogle_widget%2Fcrawler%2F%3Fmedia_id%3D3305172603278819378&tbnid=vMCLT39F1W2cpM&vet=12ahUKEwidzqHWu8WEAxU81jQHHadhA6EQMygPegQIARBv..i&imgrefurl=https%3A%2F%2Fwww.instagram.com%2Fpizza868%2Freel%2FC3eVPibyYAy%2F&docid=Qtc_uWyAjKCcTM&w=1080&h=1920&q=%E7%86%B1%E8%BE%A3%E6%BB%BE%E7%87%99&hl=zh-TW&ved=2ahUKEwidzqHWu8WEAxU81jQHHadhA6EQMygPegQIARBv\n",
      "https://www.google.com/imgres?imgurl=https%3A%2F%2Fpgw.udn.com.tw%2Fgw%2Fphoto.php%3Fu%3Dhttps%3A%2F%2Fuc.udn.com.tw%2Fphoto%2F2024%2F02%2F16%2F0%2F28980673.jpg%26x%3D0%26y%3D0%26sw%3D0%26sh%3D0%26exp%3D3600%26w%3D800&tbnid=LKOlD48sdc9yTM&vet=12ahUKEwidzqHWu8WEAxU81jQHHadhA6EQMygQegQIARB0..i&imgrefurl=https%3A%2F%2Freading.udn.com%2Fread%2Fstory%2F7046%2F7772109&docid=foe_B6NeyPWrKM&w=800&h=1065&q=%E7%86%B1%E8%BE%A3%E6%BB%BE%E7%87%99&hl=zh-TW&ved=2ahUKEwidzqHWu8WEAxU81jQHHadhA6EQMygQegQIARB0\n",
      "https://www.google.com/imgres?imgurl=https%3A%2F%2Fpgw.worldjournal.com%2Fgw%2Fphoto.php%3Fu%3Dhttps%3A%2F%2Fuc.udn.com.tw%2Fphoto%2Fwj%2Frealtime%2F2024%2F02%2F19%2F29002758.jpg%26x%3D0%26y%3D0%26sw%3D0%26sh%3D0%26sl%3DW%26fw%3D800%26exp%3D3600%26q%3D75&tbnid=xNsXtTfZNqTTEM&vet=12ahUKEwidzqHWu8WEAxU81jQHHadhA6EQMygRegQIARB2..i&imgrefurl=https%3A%2F%2Fwww.worldjournal.com%2Fwj%2Fstory%2F121345%2F7777600&docid=j3LusSj_3z2XAM&w=800&h=1120&q=%E7%86%B1%E8%BE%A3%E6%BB%BE%E7%87%99&hl=zh-TW&ved=2ahUKEwidzqHWu8WEAxU81jQHHadhA6EQMygRegQIARB2\n",
      "https://www.google.com/imgres?imgurl=http%3A%2F%2Fn.sinaimg.cn%2Fsinakd20240130s%2F0%2Fw2000h2800%2F20240130%2Fc970-7c3658d769127d48a3b6472eb5a72000.jpg&tbnid=iny8uarU2mZHdM&vet=12ahUKEwidzqHWu8WEAxU81jQHHadhA6EQMygSegQIARB5..i&imgrefurl=https%3A%2F%2Fportal.sina.com.hk%2Fnews-china%2Fsina%2F2024%2F01%2F30%2F727229%2F%25E9%259B%25BB%25E5%25BD%25B1%25E3%2580%258A%25E7%2586%25B1%25E8%25BE%25A3%25E6%25BB%25BE%25E7%2587%2599%25E3%2580%258B%25E7%2599%25BC%25E4%25BD%2588%25E4%25BA%25BA%25E7%2589%25A9%25E6%25B5%25B7%25E5%25A0%25B1%25EF%25BC%258C%25E8%25B3%2588%25E7%258E%25B2%25E3%2580%2581%25E9%259B%25B7%25E4%25BD%25B3%25E9%259F%25B3%25E6%25AD%25A1%2F&docid=lW43VzauWaXMMM&w=2000&h=2800&q=%E7%86%B1%E8%BE%A3%E6%BB%BE%E7%87%99&hl=zh-TW&ved=2ahUKEwidzqHWu8WEAxU81jQHHadhA6EQMygSegQIARB5\n",
      "https://www.google.com/imgres?imgurl=https%3A%2F%2Fcdn.hk01.com%2Fdi%2Fmedia%2Fimages%2Fdw%2F20240211%2F833478898695016448146879.jpeg%2FIY8VeoBFUwCjDfDkwsvWY3kdpgHFsMaNfI2G3nyNht4%3Fv%3Dw1920r16_9&tbnid=ahTXdxoNE261AM&vet=12ahUKEwidzqHWu8WEAxU81jQHHadhA6EQMygTegQIARB7..i&imgrefurl=https%3A%2F%2Fwww.hk01.com%2F%25E8%2597%259D%25E6%2596%2587%25E4%25B8%25AD%25E5%259C%258B%2F990080%2F%25E8%25B3%2588%25E7%258E%25B2%25E6%2596%25B0%25E6%2588%25B2-%25E7%2586%25B1%25E8%25BE%25A3%25E6%25BB%25BE%25E7%2587%2599-%25E6%25BC%2594%25E6%258B%25B3%25E6%2589%258B%25E6%25B8%259B%25E9%2587%258D50%25E5%2585%25AC%25E6%2596%25A4%25E9%259C%2587%25E9%25A9%259A%25E5%2585%25A8%25E7%25B6%25B2-%25E5%25B7%25B2%25E6%2594%25B6%25E7%25A9%25AB5%25E5%2584%2584%25E7%25A5%25A8%25E6%2588%25BF&docid=T8iq5KDtG5ZfVM&w=1200&h=675&itg=1&q=%E7%86%B1%E8%BE%A3%E6%BB%BE%E7%87%99&hl=zh-TW&ved=2ahUKEwidzqHWu8WEAxU81jQHHadhA6EQMygTegQIARB7\n",
      "https://www.google.com/imgres?imgurl=https%3A%2F%2Fimages.pinprestige.com%2Fwp-content%2Fuploads%2Fsites%2F3%2F2024%2F02%2F21170318%2FMTXX_PT20240221_170227180-scaled.jpg&tbnid=aXmlIytBwO0m9M&vet=12ahUKEwidzqHWu8WEAxU81jQHHadhA6EQMygUegQIARB9..i&imgrefurl=https%3A%2F%2Fwww.pinprestige.com%2Fmy%2Flifestyle%2Fpeople%2F10-life-quotes-from-chinese-actress-jia-ling%2F&docid=k8E8aCXqaojhyM&w=2560&h=1706&itg=1&q=%E7%86%B1%E8%BE%A3%E6%BB%BE%E7%87%99&hl=zh-TW&ved=2ahUKEwidzqHWu8WEAxU81jQHHadhA6EQMygUegQIARB9\n",
      "https://www.google.com/imgres?imgurl=https%3A%2F%2Fadayimg.com%2Fwp-content%2Fuploads%2F2024%2F02%2Fa2241c9683d425fded06014f427dc6db.jpg&tbnid=Y5OklT8FsylKKM&vet=12ahUKEwidzqHWu8WEAxU81jQHHadhA6EQMygVegUIARCAAQ..i&imgrefurl=https%3A%2F%2Fwww.adaymag.com%2F2024%2F02%2F21%2Fjia-ling-losing-weight-starring-movie-yolo-revealed-story-of-chinese-actress.html&docid=iuu-HiN6t--hYM&w=1170&h=700&q=%E7%86%B1%E8%BE%A3%E6%BB%BE%E7%87%99&hl=zh-TW&ved=2ahUKEwidzqHWu8WEAxU81jQHHadhA6EQMygVegUIARCAAQ\n",
      "https://www.google.com/imgres?imgurl=https%3A%2F%2Fi.ytimg.com%2Fvi%2FCaXOrH8YvIg%2Fmaxresdefault.jpg&tbnid=bnCObZuPOtZARM&vet=12ahUKEwidzqHWu8WEAxU81jQHHadhA6EQMygWegUIARCDAQ..i&imgrefurl=https%3A%2F%2Fwww.youtube.com%2Fwatch%3Fv%3DCaXOrH8YvIg&docid=jW0yLt5ztZ7VrM&w=1280&h=720&q=%E7%86%B1%E8%BE%A3%E6%BB%BE%E7%87%99&hl=zh-TW&ved=2ahUKEwidzqHWu8WEAxU81jQHHadhA6EQMygWegUIARCDAQ\n",
      "https://www.google.com/imgres?imgurl=https%3A%2F%2Fs.yimg.com%2Fny%2Fapi%2Fres%2F1.2%2F.832J8CUnW.CUtba2lXrmA--%2FYXBwaWQ9aGlnaGxhbmRlcjt3PTEyMDA7aD0xNDAx%2Fhttps%3A%2F%2Fmedia.zenfs.com%2Fzh-tw%2Fbabyou_nownews_com_883%2F84d8862a275a50581b267381c838d9dd&tbnid=oa9S0W3FrLszAM&vet=12ahUKEwidzqHWu8WEAxU81jQHHadhA6EQMygXegUIARCIAQ..i&imgrefurl=https%3A%2F%2Ftw.news.yahoo.com%2F%25E8%25B3%2588%25E7%258E%25B2%25E7%2582%25BA%25E9%259B%25BB%25E5%25BD%25B1-%25E7%2586%25B1%25E8%25BE%25A3%25E6%25BB%25BE%25E7%2587%2599-%25E6%25B8%259B%25E9%2587%258D100%25E6%2596%25A4-%25E6%25AE%25BA%25E9%259D%2592%25E7%2595%25B6%25E6%2599%259A%25E5%2597%259130%25E5%25A1%258A%25E5%25B7%25A7%25E5%2585%258B%25E5%258A%259B%25E9%25A4%2585%25E4%25B9%25BE-051427411.html&docid=5O0vOIPkYuEr0M&w=1200&h=1401&itg=1&q=%E7%86%B1%E8%BE%A3%E6%BB%BE%E7%87%99&hl=zh-TW&ved=2ahUKEwidzqHWu8WEAxU81jQHHadhA6EQMygXegUIARCIAQ\n",
      "https://www.google.com/imgres?imgurl=http%3A%2F%2Fn.sinaimg.cn%2Fsinakd20240213s%2F301%2Fw1080h1621%2F20240213%2Fd998-2c578d96473f41ab1f3781091b849564.jpg&tbnid=ztUCVNXnYbt53M&vet=12ahUKEwidzqHWu8WEAxU81jQHHadhA6EQMygYegUIARCKAQ..i&imgrefurl=https%3A%2F%2Fportal.sina.com.hk%2Fnews-china%2Fsina%2F2024%2F02%2F13%2F742559%2F%25E8%25B3%2588%25E7%258E%25B2%25E5%259B%259E%25E6%2587%2589%25E8%25A7%2580%25E7%259C%25BE%25EF%25BC%259A%25E4%25B8%258D%25E7%2594%25A8%25E5%259C%25A8%25E6%2584%258F%25E6%2588%2591%25E6%2580%258E%25E9%25BA%25BC%25E6%2583%25B3%25EF%25BC%258C%25E7%259C%258B%25E5%25AE%258C%25E3%2580%258A%25E7%2586%25B1%25E8%25BE%25A3%25E6%25BB%25BE%2F&docid=mxS9Xjq4SftUCM&w=1080&h=1621&q=%E7%86%B1%E8%BE%A3%E6%BB%BE%E7%87%99&hl=zh-TW&ved=2ahUKEwidzqHWu8WEAxU81jQHHadhA6EQMygYegUIARCKAQ\n",
      "https://www.google.com/imgres?imgurl=https%3A%2F%2Fcontentcenter-drcn.dbankcdn.cn%2Fimg%2Fpub_1%2FBrowser_contentImg_1471_8%2F42%2Fv3%2F1051471b02d8eddd5d3f51dd5f5d6232b78a0e2%2Fc45cfec17de6487fb3cd268cb6194ca8_5_0%2Fhd.webp&tbnid=zz95WChrwD9fMM&vet=12ahUKEwidzqHWu8WEAxU81jQHHadhA6EQMygZegUIARCMAQ..i&imgrefurl=https%3A%2F%2Ffeeds-drcn.cloud.huawei.com.cn%2Flandingpage%2Flatest%3Fdocid%3D1051471b02d8eddd5d3f51dd5f5d6232b78a0e2%26to_app%3Dhwbrowser%26dy_scenario%3Drelate%26tn%3Daadee0992a7c6235e7602ce8b0d19b815b9655793a556d53f1df52a8e535b1db%26channel%3DHW_TRENDING%26ctype%3Dnews%26cpid%3D666%26r%3DCN%26sdkVersion%3D%26emuiver%3D&docid=bFvBT_nxJgdz4M&w=720&h=1102&q=%E7%86%B1%E8%BE%A3%E6%BB%BE%E7%87%99&hl=zh-TW&ved=2ahUKEwidzqHWu8WEAxU81jQHHadhA6EQMygZegUIARCMAQ\n",
      "https://www.google.com/imgres?imgurl=https%3A%2F%2Fcdn.hk01.com%2Fdi%2Fmedia%2Fimages%2Fdw%2F20240222%2F837304702231121920752931.jpeg%2FrGPvIXcvYIGmEszExTVNVC1ciHarnzGBWFJYQlhSWEI%3Fv%3Dw1280r16_9&tbnid=o9PL5xE6XWclaM&vet=12ahUKEwidzqHWu8WEAxU81jQHHadhA6EQMygaegUIARCOAQ..i&imgrefurl=https%3A%2F%2Fwww.hk01.com%2F%25E5%25A4%25A7%25E5%259C%258B%25E5%25B0%258F%25E4%25BA%258B%2F993235%2F%25E7%2586%25B1%25E8%25BE%25A3%25E6%25BB%25BE%25E7%2587%2599-%25E8%25B3%2588%25E7%258E%25B2%25E6%2588%2590%25E5%258A%259F%25E6%25B8%259B50kg%25E5%25B8%25B6%25E5%258B%2595%25E5%25A5%25B3%25E7%2594%259F%25E6%258B%25B3%25E6%2593%258A%25E7%2586%25B1%25E6%25BD%25AE-%25E6%2595%2599%25E7%25B7%25B4-%25E5%25AD%25B8%25E7%2594%259F%25E5%25A4%259A%25E4%25BA%258610%25E5%2580%258D&docid=vF0k0QmAv4AvjM&w=1200&h=675&itg=1&q=%E7%86%B1%E8%BE%A3%E6%BB%BE%E7%87%99&hl=zh-TW&ved=2ahUKEwidzqHWu8WEAxU81jQHHadhA6EQMygaegUIARCOAQ\n",
      "https://www.google.com/imgres?imgurl=https%3A%2F%2Fmedia.bjnews.com.cn%2Ffz%2Fhtml%2FAttachPubDev%2F2024%2F2%2Fwangyanhu2024222169391746381.jpg&tbnid=iihdxs754cn53M&vet=12ahUKEwidzqHWu8WEAxU81jQHHadhA6EQMygbegUIARCRAQ..i&imgrefurl=https%3A%2F%2Fwww.bjnews.com.cn%2Fdetail%2F1708589380168585.html&docid=RsmrTAds4SEKyM&w=681&h=1335&q=%E7%86%B1%E8%BE%A3%E6%BB%BE%E7%87%99&hl=zh-TW&ved=2ahUKEwidzqHWu8WEAxU81jQHHadhA6EQMygbegUIARCRAQ\n",
      "https://www.google.com/imgres?imgurl=https%3A%2F%2Fwww.sofitsogood.com%2Fwp-content%2Fuploads%2F2024%2F02%2F%25E8%25B3%2588%25E7%258E%25B2%25E5%25B9%25B4%25E6%25B8%259B%25E7%2599%25BE%25E7%25A3%2585.jpg&tbnid=v34OzmAm_dItRM&vet=12ahUKEwidzqHWu8WEAxU81jQHHadhA6EQMygcegUIARCUAQ..i&imgrefurl=https%3A%2F%2Fwww.sofitsogood.com%2F8228%2F%25E3%2580%258A%25E7%2586%25B1%25E8%25BE%25A3%25E6%25BB%25BE%25E7%2587%2599%25E3%2580%258B%25E8%25B3%2588%25E7%258E%25B2%25E5%25B9%25B4%25E6%25B8%259B%25E7%2599%25BE%25E7%25A3%2585-%25E9%2586%25AB%25E7%2594%259F%25EF%25BC%259A%25E9%259A%25A8%25E6%2599%2582%25E5%25BC%2595%25E7%2599%25BC%25E5%258F%25A6%25E4%25B8%2580%25E7%2597%2585%2F&docid=FQRhJS-Whljc7M&w=1200&h=668&itg=1&q=%E7%86%B1%E8%BE%A3%E6%BB%BE%E7%87%99&hl=zh-TW&ved=2ahUKEwidzqHWu8WEAxU81jQHHadhA6EQMygcegUIARCUAQ\n",
      "https://www.google.com/imgres?imgurl=https%3A%2F%2Fpgw.worldjournal.com%2Fgw%2Fphoto.php%3Fu%3Dhttps%3A%2F%2Fuc.udn.com.tw%2Fphoto%2Fwj%2Frealtime%2F2024%2F02%2F20%2F29011181.jpg%26x%3D0%26y%3D0%26sw%3D0%26sh%3D0%26sl%3DW%26fw%3D800%26exp%3D3600%26q%3D75&tbnid=OqOCGTzpsOE1sM&vet=12ahUKEwidzqHWu8WEAxU81jQHHadhA6EQMygdegUIARCXAQ..i&imgrefurl=https%3A%2F%2Fwww.worldjournal.com%2Fwj%2Fstory%2F121233%2F7780130&docid=QixmDvoxLGzzfM&w=799&h=1392&itg=1&q=%E7%86%B1%E8%BE%A3%E6%BB%BE%E7%87%99&hl=zh-TW&ved=2ahUKEwidzqHWu8WEAxU81jQHHadhA6EQMygdegUIARCXAQ\n",
      "https://www.google.com/imgres?imgurl=https%3A%2F%2Fcdn.hk01.com%2Fdi%2Fmedia%2Fimages%2Fdw%2F20240216%2F835165848929832960576129.jpeg%2Fec9DXAVZm-MvrNTSecu4G2ZOFEwqqY1mbs6rjG7Oq4w%3Fv%3Dw1920r16_9&tbnid=KQ5_-pgXZ2aohM&vet=12ahUKEwidzqHWu8WEAxU81jQHHadhA6EQMygeegUIARCaAQ..i&imgrefurl=https%3A%2F%2Fwww.hk01.com%2F%25E5%258D%25B3%25E6%2599%2582%25E5%25A8%259B%25E6%25A8%2582%2F991460%2F%25E7%2586%25B1%25E8%25BE%25A3%25E6%25BB%25BE%25E7%2587%2599-%25E8%25B3%2588%25E7%258E%25B2%25E5%25B9%25B4%25E6%25B8%259B%25E7%2599%25BE%25E7%25A3%2585%25E6%2588%2590%25E7%2586%25B1%25E9%2596%2580%25E9%2597%259C%25E9%258D%25B5%25E5%25AD%2597-%25E6%2595%25B8%25E6%2593%259A%25E6%258F%25AD%25E5%2585%25A7%25E5%259C%25B0%25E6%25B8%259B%25E8%2582%25A5%25E5%25A5%25B3%25E7%25A5%259E%25E6%259C%2589%25E5%25B9%25BE%25E7%25B4%2585&docid=smpZcdgTdm1EZM&w=1920&h=1080&itg=1&q=%E7%86%B1%E8%BE%A3%E6%BB%BE%E7%87%99&hl=zh-TW&ved=2ahUKEwidzqHWu8WEAxU81jQHHadhA6EQMygeegUIARCaAQ\n",
      "https://www.google.com/imgres?imgurl=https%3A%2F%2Fi.ytimg.com%2Fvi%2FlPzEh2NOK1c%2Fmaxresdefault.jpg&tbnid=TUMWr8Is5UV9hM&vet=12ahUKEwidzqHWu8WEAxU81jQHHadhA6EQMygfegUIARCcAQ..i&imgrefurl=https%3A%2F%2Fwww.youtube.com%2Fwatch%3Fv%3DlPzEh2NOK1c&docid=DxOmzfbx-eGnzM&w=1280&h=720&q=%E7%86%B1%E8%BE%A3%E6%BB%BE%E7%87%99&hl=zh-TW&ved=2ahUKEwidzqHWu8WEAxU81jQHHadhA6EQMygfegUIARCcAQ\n",
      "https://www.google.com/imgres?imgurl=http%3A%2F%2Fwww.xinhuanet.com%2Fent%2F20240210%2F5ebeee08b61b4fe2bdc2e03e273121a7%2F202402105ebeee08b61b4fe2bdc2e03e273121a7_202402102146bf6afa0f4c06918370d5ec8f72c4.jpeg&tbnid=rkzKjIfJMaPTqM&vet=12ahUKEwidzqHWu8WEAxU81jQHHadhA6EQMyggegUIARChAQ..i&imgrefurl=http%3A%2F%2Fbig5.news.cn%2Fgate%2Fbig5%2Fwww.xinhuanet.com%2Fent%2F20240210%2F5ebeee08b61b4fe2bdc2e03e273121a7%2Fc.html&docid=5cPBlezZ_ys2pM&w=1280&h=5435&q=%E7%86%B1%E8%BE%A3%E6%BB%BE%E7%87%99&hl=zh-TW&ved=2ahUKEwidzqHWu8WEAxU81jQHHadhA6EQMyggegUIARChAQ\n",
      "https://www.google.com/imgres?imgurl=https%3A%2F%2Fs.yimg.com%2Fny%2Fapi%2Fres%2F1.2%2F33CRtdYAgwp9ZRLl2c1Qpg--%2FYXBwaWQ9aGlnaGxhbmRlcjt3PTY0MDtoPTEzODY-%2Fhttps%3A%2F%2Fmedia.zenfs.com%2Fzh-tw%2Fdailyview.tw%2F7fcc85c9a3d7cd85ff6582c055eb2f34&tbnid=M35kt_3dFIi_nM&vet=12ahUKEwidzqHWu8WEAxU81jQHHadhA6EQMyghegUIARCjAQ..i&imgrefurl=https%3A%2F%2Ftw.news.yahoo.com%2F%25E5%25B9%25B4%25E6%25B8%259B%25E9%2587%258D50%25E5%2585%25AC%25E6%2596%25A4-%25E8%25B3%2588%25E7%258E%25B2%25E4%25B8%25BB%25E6%25BC%2594%25E9%259B%25BB%25E5%25BD%25B1-%25E7%2586%25B1%25E8%25BE%25A3%25E6%25BB%25BE%25E7%2587%2599-%25E7%25A5%25A8%25E6%2588%25BF%25E7%25AA%2581%25E7%25A0%25B421%25E5%2584%2584%25E4%25BA%25BA%25E6%25B0%2591%25E5%25B9%25A3-%25E7%25B6%25B2%25E6%25B7%259A-090332670.html&docid=lrMvO0J8Pt_EKM&w=640&h=1386&itg=1&q=%E7%86%B1%E8%BE%A3%E6%BB%BE%E7%87%99&hl=zh-TW&ved=2ahUKEwidzqHWu8WEAxU81jQHHadhA6EQMyghegUIARCjAQ\n",
      "https://www.google.com/imgres?imgurl=https%3A%2F%2Fis1-ssl.mzstatic.com%2Fimage%2Fthumb%2FMusic126%2Fv4%2Fc7%2Ff2%2F38%2Fc7f238c6-0162-a6e1-3c2e-d948dec7ef14%2F4894944914457.jpg%2F1200x1200bf-60.jpg&tbnid=qD0xbIOY1ifN7M&vet=12ahUKEwidzqHWu8WEAxU81jQHHadhA6EQMygiegUIARClAQ..i&imgrefurl=https%3A%2F%2Fmusic.apple.com%2Ftw%2Falbum%2F%25E8%2597%258F%25E6%2598%259F-%25E7%2594%25B5%25E5%25BD%25B1-%25E7%2583%25AD%25E8%25BE%25A3%25E6%25BB%259A%25E7%2583%25AB-%25E7%2583%25AD%25E8%25BE%25A3%25E7%25BB%25BD%25E6%2594%25BE%25E6%259B%25B2-single%2F1729057626&docid=0MDtMsxk1ygnvM&w=1200&h=1200&q=%E7%86%B1%E8%BE%A3%E6%BB%BE%E7%87%99&hl=zh-TW&ved=2ahUKEwidzqHWu8WEAxU81jQHHadhA6EQMygiegUIARClAQ\n",
      "https://www.google.com/imgres?imgurl=https%3A%2F%2Fwx2.sinaimg.cn%2Flarge%2F001Na93Ily1hmwsyu6a6xj60j611u7r602.jpg&tbnid=S8V8BOxLjWJX6M&vet=12ahUKEwidzqHWu8WEAxU81jQHHadhA6EQMygjegUIARCoAQ..i&imgrefurl=https%3A%2F%2Fportal.sina.com.hk%2Fentertainment%2Fweibosinaent%2F2024%2F02%2F17%2F746327%2F%25E7%2586%25B1%25E8%25BE%25A3%25E6%25BB%25BE%25E7%2587%25992024%25E5%25B9%25B4%25E6%2598%25A5%25E7%25AF%2580%25E6%25AA%2594%25E7%25A5%25A8%25E6%2588%25BF%25E5%2586%25A0%25E8%25BB%258D%2F&docid=cLR8qvESe1qHVM&w=690&h=1362&q=%E7%86%B1%E8%BE%A3%E6%BB%BE%E7%87%99&hl=zh-TW&ved=2ahUKEwidzqHWu8WEAxU81jQHHadhA6EQMygjegUIARCoAQ\n",
      "https://www.google.com/imgres?imgurl=https%3A%2F%2Fadayimg.com%2Fwp-content%2Fuploads%2F2024%2F02%2F650a13862e1a497adb2c5623b182d1f0.jpg&tbnid=LWzwHc21I6wyaM&vet=12ahUKEwidzqHWu8WEAxU81jQHHadhA6EQMygkegUIARCqAQ..i&imgrefurl=https%3A%2F%2Fwww.adaymag.com%2F2024%2F02%2F21%2Fjia-ling-losing-weight-starring-movie-yolo-revealed-story-of-chinese-actress.html&docid=iuu-HiN6t--hYM&w=2000&h=3001&q=%E7%86%B1%E8%BE%A3%E6%BB%BE%E7%87%99&hl=zh-TW&ved=2ahUKEwidzqHWu8WEAxU81jQHHadhA6EQMygkegUIARCqAQ\n",
      "https://www.google.com/imgres?imgurl=https%3A%2F%2Fstatic-cdn.nextapple.tw%2Fprod%2F2024-02%2FFF6C7F864255B646C52F900233E58372%2F10eb10925d049d5181f29bd7b59d7caa_1280.webp&tbnid=iWJJoG2O8SRdaM&vet=12ahUKEwidzqHWu8WEAxU81jQHHadhA6EQMyglegUIARCtAQ..i&imgrefurl=https%3A%2F%2Ftw.nextapple.com%2Fentertainment%2F20240212%2FFF6C7F864255B646C52F900233E58372&docid=qAq-NdcQzeYNyM&w=1280&h=862&q=%E7%86%B1%E8%BE%A3%E6%BB%BE%E7%87%99&hl=zh-TW&ved=2ahUKEwidzqHWu8WEAxU81jQHHadhA6EQMyglegUIARCtAQ\n",
      "https://www.google.com/imgres?imgurl=http%3A%2F%2Fmv.chinajilin.com.cn%2Fmasvod%2Fpublic%2F2024%2F01%2F11%2F79089.images%2Fv79089_b1704959579943.jpg&tbnid=Fjv1anx862t1RM&vet=12ahUKEwidzqHWu8WEAxU81jQHHadhA6EQMygmegUIARCvAQ..i&imgrefurl=https%3A%2F%2Fnews.cnjiwang.com%2Fjwyc%2F202401%2F3810832.html&docid=BK75Dt5h4qrAaM&w=1080&h=1920&q=%E7%86%B1%E8%BE%A3%E6%BB%BE%E7%87%99&hl=zh-TW&ved=2ahUKEwidzqHWu8WEAxU81jQHHadhA6EQMygmegUIARCvAQ\n",
      "https://www.google.com/imgres?imgurl=https%3A%2F%2Fpgw.udn.com.tw%2Fgw%2Fphoto.php%3Fu%3Dhttps%3A%2F%2Fuc.udn.com.tw%2Fphoto%2F2024%2F02%2F16%2F0%2F28980674.jpg%26x%3D0%26y%3D0%26sw%3D0%26sh%3D0%26exp%3D3600%26w%3D800&tbnid=fYbAz9fD6K-DJM&vet=12ahUKEwidzqHWu8WEAxU81jQHHadhA6EQMygnegUIARCxAQ..i&imgrefurl=https%3A%2F%2Freading.udn.com%2Fread%2Fstory%2F7046%2F7772109&docid=foe_B6NeyPWrKM&w=800&h=1120&q=%E7%86%B1%E8%BE%A3%E6%BB%BE%E7%87%99&hl=zh-TW&ved=2ahUKEwidzqHWu8WEAxU81jQHHadhA6EQMygnegUIARCxAQ\n",
      "https://www.google.com/imgres?imgurl=https%3A%2F%2Fcdn.hk01.com%2Fdi%2Fmedia%2Fimages%2Fdw%2F20240215%2F834851803857162240390582.jpeg%2Fo65N9BzNUVJ4WquRT8yulPEudH8JmOpaSLGuF0ixrhc%3Fv%3Dw1920r16_9&tbnid=BXOG6z2V7q1RoM&vet=12ahUKEwidzqHWu8WEAxU81jQHHadhA6EQMygoegUIARCzAQ..i&imgrefurl=https%3A%2F%2Fwww.hk01.com%2F%25E5%258D%25B3%25E6%2599%2582%25E4%25B8%25AD%25E5%259C%258B%2F991001%2F%25E8%25B3%2588%25E7%258E%25B2-%25E7%2586%25B1%25E8%25BE%25A3%25E6%25BB%25BE%25E7%2587%2599-%25E9%2580%25BE17%25E5%2584%2584%25E7%25A5%25A8%25E6%2588%25BF%25E9%2581%2599%25E9%2581%2599%25E9%25A0%2598%25E5%2585%2588%25E6%2598%25A5%25E7%25AF%2580%25E6%25AA%2594-%25E9%25A3%259B%25E9%25A6%25B3%25E4%25BA%25BA%25E7%2594%259F2-15%25E5%2584%2584&docid=LwnyocI4SdtXSM&w=1200&h=675&q=%E7%86%B1%E8%BE%A3%E6%BB%BE%E7%87%99&hl=zh-TW&ved=2ahUKEwidzqHWu8WEAxU81jQHHadhA6EQMygoegUIARCzAQ\n",
      "https://www.google.com/imgres?imgurl=https%3A%2F%2Fi.ytimg.com%2Fvi%2FhbVGklCnAww%2Fmaxresdefault.jpg&tbnid=6G87e5xh-Gy2GM&vet=12ahUKEwidzqHWu8WEAxU81jQHHadhA6EQMygpegUIARC1AQ..i&imgrefurl=https%3A%2F%2Fwww.youtube.com%2Fwatch%3Fv%3DhbVGklCnAww&docid=2NMYx6TZTZMoXM&w=1280&h=720&q=%E7%86%B1%E8%BE%A3%E6%BB%BE%E7%87%99&hl=zh-TW&ved=2ahUKEwidzqHWu8WEAxU81jQHHadhA6EQMygpegUIARC1AQ\n",
      "https://www.google.com/imgres?imgurl=http%3A%2F%2Fn.sinaimg.cn%2Fsinakd20240216s%2F96%2Fw2048h2048%2F20240216%2Ff266-c644dddf61e4e85e76d99a62c22f4408.jpg&tbnid=Jn5HIrTj2UsN9M&vet=12ahUKEwidzqHWu8WEAxU81jQHHadhA6EQMygqegUIARC6AQ..i&imgrefurl=https%3A%2F%2Fportal.sina.com.hk%2Fnews-china%2Fsina%2F2024%2F02%2F16%2F745136%2F%25E8%25B3%2588%25E7%258E%25B2%25E8%2581%258A%25E5%25A4%25A7%25E5%25BC%25B5%25E5%2581%2589%25E5%2589%25B5%25E4%25BD%259C%25E3%2580%258A%25E7%2586%25B1%25E8%25BE%25A3%25E6%25BB%25BE%25E7%2587%2599%25E3%2580%258B%25E7%2589%2587%25E5%25B0%25BE%25E6%259B%25B2%25E4%25B8%25A6%25E5%259B%259E%25E6%2586%25B6%25E5%2589%25B5%25E4%25BD%259C%2F&docid=Smv_RerUoDn-wM&w=2048&h=2048&itg=1&q=%E7%86%B1%E8%BE%A3%E6%BB%BE%E7%87%99&hl=zh-TW&ved=2ahUKEwidzqHWu8WEAxU81jQHHadhA6EQMygqegUIARC6AQ\n",
      "https://www.google.com/imgres?imgurl=http%3A%2F%2Fp26-sign.bdxiguaimg.com%2Ftos-cn-p-0015%2Fo4B3Es0NeyhnXCA8BGzYgNfFj5L7gAPEFWpdIA~tplv-pk90l89vgd-crop-center%3A1280%3A720.jpeg%3Flk3s%3Dc91aa798%26x-expires%3D1724377076%26x-signature%3DY%252Fu2s7ddN%252FhY1H631crXOlFu4js%253D&tbnid=_p633bWODAjxxM&vet=12ahUKEwidzqHWu8WEAxU81jQHHadhA6EQMygregUIARC8AQ..i&imgrefurl=https%3A%2F%2Fm.ixigua.com%2Fvideo%2F7339032762856456742&docid=rui9EVql5HGsLM&w=1280&h=720&itg=1&q=%E7%86%B1%E8%BE%A3%E6%BB%BE%E7%87%99&hl=zh-TW&ved=2ahUKEwidzqHWu8WEAxU81jQHHadhA6EQMygregUIARC8AQ\n",
      "https://www.google.com/imgres?imgurl=https%3A%2F%2Fimage.uisdc.com%2Fwp-content%2Fuploads%2F2024%2F02%2FColor-card-20240219-1.jpeg&tbnid=bxyypWtPtQ4C-M&vet=12ahUKEwidzqHWu8WEAxU81jQHHadhA6EQMygsegUIARDBAQ..i&imgrefurl=https%3A%2F%2Fwww.uisdc.com%2Fgroup%2F553105.html&docid=q7SLV3huBYZcCM&w=1242&h=1660&q=%E7%86%B1%E8%BE%A3%E6%BB%BE%E7%87%99&hl=zh-TW&ved=2ahUKEwidzqHWu8WEAxU81jQHHadhA6EQMygsegUIARDBAQ\n",
      "https://www.google.com/imgres?imgurl=http%3A%2F%2Fn.sinaimg.cn%2Fsinakd20240214s%2F600%2Fw1080h1920%2F20240214%2F9bbb-37db4abdce0c765aeb9cc99ba411d167.jpg&tbnid=SMupcV2dS572uM&vet=12ahUKEwidzqHWu8WEAxU81jQHHadhA6EQMygtegUIARDEAQ..i&imgrefurl=https%3A%2F%2Fportal.sina.com.hk%2Fnews-china%2Fsina%2F2024%2F02%2F14%2F743768%2F%25E3%2580%258A%25E7%2586%25B1%25E8%25BE%25A3%25E6%25BB%25BE%25E7%2587%2599%25E3%2580%258B%25E7%25A5%25A8%25E6%2588%25BF%25E7%25A0%25B419%25E5%2584%2584%25EF%25BC%258C%25E3%2580%258A%25E7%25AC%25AC%25E4%25BA%258C%25E5%258D%2581%25E6%25A2%259D%25E3%2580%258B%25E3%2580%258A%25E6%2588%2591%25E5%2580%2591%25E4%25B8%2580%25E8%25B5%25B7%2F&docid=VrxX3-IXqaJL1M&w=1080&h=1920&q=%E7%86%B1%E8%BE%A3%E6%BB%BE%E7%87%99&hl=zh-TW&ved=2ahUKEwidzqHWu8WEAxU81jQHHadhA6EQMygtegUIARDEAQ\n",
      "https://www.google.com/imgres?imgurl=https%3A%2F%2Fpgw.udn.com.tw%2Fgw%2Fphoto.php%3Fu%3Dhttps%3A%2F%2Fuc.udn.com.tw%2Fphoto%2F2024%2F02%2F16%2F0%2F28980678.jpg%26x%3D0%26y%3D0%26sw%3D0%26sh%3D0%26exp%3D3600%26w%3D800&tbnid=ooVbgODhFL4MWM&vet=12ahUKEwidzqHWu8WEAxU81jQHHadhA6EQMyguegUIARDGAQ..i&imgrefurl=https%3A%2F%2Freading.udn.com%2Fread%2Fstory%2F7046%2F7772109&docid=foe_B6NeyPWrKM&w=800&h=1120&itg=1&q=%E7%86%B1%E8%BE%A3%E6%BB%BE%E7%87%99&hl=zh-TW&ved=2ahUKEwidzqHWu8WEAxU81jQHHadhA6EQMyguegUIARDGAQ\n",
      "https://www.google.com/imgres?imgurl=https%3A%2F%2Fi.ytimg.com%2Fvi%2FHsE0tO_n5AE%2Fmaxresdefault.jpg&tbnid=UgC2S9kF57Xb-M&vet=12ahUKEwidzqHWu8WEAxU81jQHHadhA6EQMygvegUIARDIAQ..i&imgrefurl=https%3A%2F%2Fwww.youtube.com%2Fwatch%3Fv%3DHsE0tO_n5AE&docid=T8y9EDAw8GUziM&w=1280&h=720&itg=1&q=%E7%86%B1%E8%BE%A3%E6%BB%BE%E7%87%99&hl=zh-TW&ved=2ahUKEwidzqHWu8WEAxU81jQHHadhA6EQMygvegUIARDIAQ\n",
      "https://www.google.com/imgres?imgurl=http%3A%2F%2Fwww.xinhuanet.com%2Ffortune%2F20240220%2F5771824a987b4784b0e4552fb4a7595c%2F202402202a5fa6d14f394f6f96c64944b18fb92b_202402202da3bf2feaed4cc9be402a32712b3f90.jpeg&tbnid=qaDCMNzMOZKPzM&vet=12ahUKEwidzqHWu8WEAxU81jQHHadhA6EQMygwegUIARDMAQ..i&imgrefurl=http%3A%2F%2Fbig5.news.cn%2Fgate%2Fbig5%2Fwww.xinhuanet.com%2Ffortune%2F20240220%2F5771824a987b4784b0e4552fb4a7595c%2Fc.html&docid=63_jnIujxRBHUM&w=1000&h=1671&q=%E7%86%B1%E8%BE%A3%E6%BB%BE%E7%87%99&hl=zh-TW&ved=2ahUKEwidzqHWu8WEAxU81jQHHadhA6EQMygwegUIARDMAQ\n",
      "https://www.google.com/imgres?imgurl=https%3A%2F%2Fpic2.pedaily.cn%2F24%2F202402%2F20242131517521556.jpg&tbnid=_rAlM7Ck-fST0M&vet=12ahUKEwidzqHWu8WEAxU81jQHHadhA6EQMygxegUIARDPAQ..i&imgrefurl=https%3A%2F%2Fnews.pedaily.cn%2F202402%2F529758.shtml&docid=T8efZ2N4R6v1cM&w=1080&h=1276&q=%E7%86%B1%E8%BE%A3%E6%BB%BE%E7%87%99&hl=zh-TW&ved=2ahUKEwidzqHWu8WEAxU81jQHHadhA6EQMygxegUIARDPAQ\n"
     ]
    }
   ],
   "source": [
    "from selenium import webdriver\n",
    "from selenium.webdriver.chrome.service import Service\n",
    "from selenium.webdriver.common.by import By\n",
    "from selenium.webdriver.chrome.options import Options #抓Chrome原始設定\n",
    "from selenium.webdriver.support.wait import WebDriverWait #類似timer.sleep\n",
    "from selenium.webdriver.support import expected_conditions as EC #幫忙做判斷檢查目標是否符合需求 return T/F\n",
    "from selenium.webdriver.common.keys import Keys #Enter Shift 功能鍵執行\n",
    "import os\n",
    "\n",
    "# close the pop up msg\n",
    "option = webdriver.ChromeOptions() #儲存原廠設定\n",
    "prefs_new = {\"profile.default_content_setting_values\":{\"notifications\":2}} #禁止網站傳送設定2\n",
    "option.add_experimental_option(\"prefs\",prefs_new) #修改成禁止網站傳送設定2\n",
    "\n",
    "\n",
    "driver = webdriver.Chrome(service=Service(\"C:\\\\Users\\\\User\\\\chromedriver.exe\"), options=option)\n",
    "driver.get(\"http://google.com\")\n",
    "\n",
    "#searchBar = driver.find_element(By.CSS_SELECTOR, 'textarea[name=\"q\"]')#tag[attr_name=attr_value]\n",
    "#當網路不好有等待時間來確認輸入完成才查詢，下面寫最多等10s，不用像sleep要等滿時間；缺點是如果element 名稱打錯，就會timeout\n",
    "searchBar = WebDriverWait(driver, 10).until(EC.element_to_be_clickable((By.CSS_SELECTOR, 'textarea[name=\"q\"]')))\n",
    "searchBar.send_keys(\"熱辣滾燙\")\n",
    "searchBar.send_keys(Keys.ENTER)\n",
    "\"\"\"\n",
    "#以下兩行可由上面執行Keys.ENTER取代 \n",
    "sBtn = driver.find_element(By.CSS_SELECTOR, 'input[name=\"btnK\"]')\n",
    "sBtn.click()\n",
    "\"\"\"\n",
    "# copy xPath //*[@id=\"yDmH0d\"]/div[2]/c-wiz/div[1]/div/div[1]/div[1]/div/div/span[1]\n",
    "# copy full xpath /html/body/div[2]/c-wiz/div[1]/div/div[1]/div[1]/div/div/span[1]\n",
    "picBtn = WebDriverWait(driver, 10).until(EC.element_to_be_clickable((By.XPATH, '//*[text()=\"圖片\"]')))\n",
    "picBtn.click()\n",
    "\n",
    "WebDriverWait(driver, 10).until(EC.element_to_be_clickable((By.XPATH, '//*[text()=\"工具\"]'))).click()\n",
    "WebDriverWait(driver, 10).until(EC.element_to_be_clickable((By.XPATH, '//*[text()=\"大小\"]'))).click()\n",
    "WebDriverWait(driver, 10).until(EC.element_to_be_clickable((By.XPATH, '//*[text()=\"大\"]'))).click()\n",
    "\n",
    "anchor = []\n",
    "pics = driver.find_elements(By.CSS_SELECTOR, 'a[jsname=\\\"sTFXNd\\\"]')\n",
    "for p in pics:\n",
    "    try:\n",
    "        p.click() #目標在右邊的小分頁\n",
    "        url = p.get_attribute(\"href\")\n",
    "        anchor.append(url)\n",
    "    except:\n",
    "        print(p)\n",
    "      \n",
    "for a in anchor:\n",
    "    print(a)"
   ]
  },
  {
   "cell_type": "code",
   "execution_count": 15,
   "id": "6c367b06",
   "metadata": {},
   "outputs": [
    {
     "name": "stdout",
     "output_type": "stream",
     "text": [
      "https://www.google.com/imgres?imgurl=https%3A%2F%2Fwx4.sinaimg.cn%2Flarge%2F001Na93Ily1hlpgk4jwyvj63ux5kab2c02.jpg&tbnid=uLPhdASScYMt1M&vet=12ahUKEwidzqHWu8WEAxU81jQHHadhA6EQMygAegQIARBG..i&imgrefurl=https%3A%2F%2Fportal.sina.com.hk%2Fentertainment%2Fweibosinaent%2F2024%2F01%2F11%2F703778%2F%25E9%259B%25BB%25E5%25BD%25B1%25E7%2586%25B1%25E8%25BE%25A3%25E6%25BB%25BE%25E7%2587%2599%25E5%25AE%259A%25E6%25AA%2594%2F&docid=N-9UzgTD3VW7tM&w=5001&h=7210&q=%E7%86%B1%E8%BE%A3%E6%BB%BE%E7%87%99&hl=zh-TW&ved=2ahUKEwidzqHWu8WEAxU81jQHHadhA6EQMygAegQIARBG 1\n",
      "https://www.google.com/imgres?imgurl=https%3A%2F%2Flookaside.instagram.com%2Fseo%2Fgoogle_widget%2Fcrawler%2F%3Fmedia_id%3D3305172603278819378&tbnid=vMCLT39F1W2cpM&vet=12ahUKEwidzqHWu8WEAxU81jQHHadhA6EQMygPegQIARBv..i&imgrefurl=https%3A%2F%2Fwww.instagram.com%2Fpizza868%2Freel%2FC3eVPibyYAy%2F&docid=Qtc_uWyAjKCcTM&w=1080&h=1920&q=%E7%86%B1%E8%BE%A3%E6%BB%BE%E7%87%99&hl=zh-TW&ved=2ahUKEwidzqHWu8WEAxU81jQHHadhA6EQMygPegQIARBv 2\n",
      "https://www.google.com/imgres?imgurl=https%3A%2F%2Fadayimg.com%2Fwp-content%2Fuploads%2F2024%2F02%2Fa2241c9683d425fded06014f427dc6db.jpg&tbnid=Y5OklT8FsylKKM&vet=12ahUKEwidzqHWu8WEAxU81jQHHadhA6EQMygVegUIARCAAQ..i&imgrefurl=https%3A%2F%2Fwww.adaymag.com%2F2024%2F02%2F21%2Fjia-ling-losing-weight-starring-movie-yolo-revealed-story-of-chinese-actress.html&docid=iuu-HiN6t--hYM&w=1170&h=700&q=%E7%86%B1%E8%BE%A3%E6%BB%BE%E7%87%99&hl=zh-TW&ved=2ahUKEwidzqHWu8WEAxU81jQHHadhA6EQMygVegUIARCAAQ 3\n",
      "https://www.google.com/imgres?imgurl=https%3A%2F%2Fmedia.bjnews.com.cn%2Ffz%2Fhtml%2FAttachPubDev%2F2024%2F2%2Fwangyanhu2024222169391746381.jpg&tbnid=iihdxs754cn53M&vet=12ahUKEwidzqHWu8WEAxU81jQHHadhA6EQMygbegUIARCRAQ..i&imgrefurl=https%3A%2F%2Fwww.bjnews.com.cn%2Fdetail%2F1708589380168585.html&docid=RsmrTAds4SEKyM&w=681&h=1335&q=%E7%86%B1%E8%BE%A3%E6%BB%BE%E7%87%99&hl=zh-TW&ved=2ahUKEwidzqHWu8WEAxU81jQHHadhA6EQMygbegUIARCRAQ 4\n",
      "https://www.google.com/imgres?imgurl=https%3A%2F%2Fwx2.sinaimg.cn%2Flarge%2F001Na93Ily1hmwsyu6a6xj60j611u7r602.jpg&tbnid=S8V8BOxLjWJX6M&vet=12ahUKEwidzqHWu8WEAxU81jQHHadhA6EQMygjegUIARCoAQ..i&imgrefurl=https%3A%2F%2Fportal.sina.com.hk%2Fentertainment%2Fweibosinaent%2F2024%2F02%2F17%2F746327%2F%25E7%2586%25B1%25E8%25BE%25A3%25E6%25BB%25BE%25E7%2587%25992024%25E5%25B9%25B4%25E6%2598%25A5%25E7%25AF%2580%25E6%25AA%2594%25E7%25A5%25A8%25E6%2588%25BF%25E5%2586%25A0%25E8%25BB%258D%2F&docid=cLR8qvESe1qHVM&w=690&h=1362&q=%E7%86%B1%E8%BE%A3%E6%BB%BE%E7%87%99&hl=zh-TW&ved=2ahUKEwidzqHWu8WEAxU81jQHHadhA6EQMygjegUIARCoAQ 5\n",
      "https://www.google.com/imgres?imgurl=https%3A%2F%2Fadayimg.com%2Fwp-content%2Fuploads%2F2024%2F02%2F650a13862e1a497adb2c5623b182d1f0.jpg&tbnid=LWzwHc21I6wyaM&vet=12ahUKEwidzqHWu8WEAxU81jQHHadhA6EQMygkegUIARCqAQ..i&imgrefurl=https%3A%2F%2Fwww.adaymag.com%2F2024%2F02%2F21%2Fjia-ling-losing-weight-starring-movie-yolo-revealed-story-of-chinese-actress.html&docid=iuu-HiN6t--hYM&w=2000&h=3001&q=%E7%86%B1%E8%BE%A3%E6%BB%BE%E7%87%99&hl=zh-TW&ved=2ahUKEwidzqHWu8WEAxU81jQHHadhA6EQMygkegUIARCqAQ 6\n",
      "https://www.google.com/imgres?imgurl=https%3A%2F%2Fimage.uisdc.com%2Fwp-content%2Fuploads%2F2024%2F02%2FColor-card-20240219-1.jpeg&tbnid=bxyypWtPtQ4C-M&vet=12ahUKEwidzqHWu8WEAxU81jQHHadhA6EQMygsegUIARDBAQ..i&imgrefurl=https%3A%2F%2Fwww.uisdc.com%2Fgroup%2F553105.html&docid=q7SLV3huBYZcCM&w=1242&h=1660&q=%E7%86%B1%E8%BE%A3%E6%BB%BE%E7%87%99&hl=zh-TW&ved=2ahUKEwidzqHWu8WEAxU81jQHHadhA6EQMygsegUIARDBAQ 7\n",
      "https://www.google.com/imgres?imgurl=https%3A%2F%2Fpic2.pedaily.cn%2F24%2F202402%2F20242131517521556.jpg&tbnid=_rAlM7Ck-fST0M&vet=12ahUKEwidzqHWu8WEAxU81jQHHadhA6EQMygxegUIARDPAQ..i&imgrefurl=https%3A%2F%2Fnews.pedaily.cn%2F202402%2F529758.shtml&docid=T8efZ2N4R6v1cM&w=1080&h=1276&q=%E7%86%B1%E8%BE%A3%E6%BB%BE%E7%87%99&hl=zh-TW&ved=2ahUKEwidzqHWu8WEAxU81jQHHadhA6EQMygxegUIARDPAQ 8\n",
      "42\n"
     ]
    }
   ],
   "source": [
    "srcs = []\n",
    "cnt = 0\n",
    "cnt_err = 0\n",
    "for a in anchor:\n",
    "    try:\n",
    "        driver.get(a)\n",
    "        img = WebDriverWait(driver, 10).until(EC.element_to_be_clickable((By.CSS_SELECTOR, 'img[class=\"sFlh5c pT0Scc iPVvYb\"]')))\n",
    "        srcs.append(img.get_attribute(\"src\"))\n",
    "        cnt += 1\n",
    "    except:\n",
    "        cnt_err += 1\n",
    "        print(a, cnt_err)\n",
    "\n",
    "print(cnt)"
   ]
  },
  {
   "cell_type": "code",
   "execution_count": null,
   "id": "96832f70",
   "metadata": {},
   "outputs": [],
   "source": []
  }
 ],
 "metadata": {
  "kernelspec": {
   "display_name": "Python 3 (ipykernel)",
   "language": "python",
   "name": "python3"
  },
  "language_info": {
   "codemirror_mode": {
    "name": "ipython",
    "version": 3
   },
   "file_extension": ".py",
   "mimetype": "text/x-python",
   "name": "python",
   "nbconvert_exporter": "python",
   "pygments_lexer": "ipython3",
   "version": "3.11.5"
  }
 },
 "nbformat": 4,
 "nbformat_minor": 5
}
