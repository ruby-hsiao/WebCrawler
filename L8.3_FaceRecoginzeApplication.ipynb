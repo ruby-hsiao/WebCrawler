{
 "cells": [
  {
   "cell_type": "code",
   "execution_count": 7,
   "id": "9ef5d2fa",
   "metadata": {},
   "outputs": [
    {
     "name": "stdout",
     "output_type": "stream",
     "text": [
      "40\n",
      "[0, 0, 0, 0, 0, 0, 0, 0, 0, 0, 1, 1, 1, 1, 1, 1, 1, 1, 1, 1, 2, 2, 2, 2, 2, 2, 2, 2, 2, 2, 3, 3, 3, 3, 3, 3, 3, 3, 3, 3]\n"
     ]
    }
   ],
   "source": [
    "# 4大天王人臉辨識\n",
    "\n",
    "import cv2\n",
    "import numpy as np # list to array\n",
    "\n",
    "img_material = []\n",
    "nameList = [\"L\", \"M\", \"Q\", \"Z\"]\n",
    "nameListIdx = 0\n",
    "labels = []\n",
    "\n",
    "for name in nameList:\n",
    "    num = 0\n",
    "    while num < 10:\n",
    "        num += 1\n",
    "        imgName = name + str(num) + \".JPG\"\n",
    "        img_material.append(cv2.imread(imgName, cv2.IMREAD_GRAYSCALE))\n",
    "        labels.append(nameListIdx)\n",
    "    nameListIdx += 1\n",
    "    \n",
    "    \n",
    "print(len(img_material))\n",
    "print(labels)\n",
    "\n",
    "rec = cv2.face.LBPHFaceRecognizer_create()\n",
    "rec.train(img_material, np.array(labels)) "
   ]
  },
  {
   "cell_type": "code",
   "execution_count": 18,
   "id": "31400441",
   "metadata": {},
   "outputs": [
    {
     "name": "stdout",
     "output_type": "stream",
     "text": [
      "[[640  95 169 169]\n",
      " [ 51  87 182 182]\n",
      " [330  86 173 173]\n",
      " [936  94 169 169]]\n",
      "['cut_0.jpg', 'cut_1.jpg', 'cut_2.jpg', 'cut_3.jpg']\n"
     ]
    }
   ],
   "source": [
    "img = cv2.imread(\"4kings.JPG\")\n",
    "\n",
    "gray = cv2.cvtColor(img, cv2.COLOR_BGR2GRAY)\n",
    "\n",
    "faceCascade = cv2.CascadeClassifier(\"haarcascade_frontalface_default.xml\")\n",
    "\n",
    "# 偵測複數人臉範圍，得到為臉的範圍 list\n",
    "faces = faceCascade.detectMultiScale(\n",
    "    gray,\n",
    "    scaleFactor=1.3,\n",
    "    minNeighbors=4,\n",
    "    minSize=(32,32)\n",
    ")\n",
    "\n",
    "print(faces)\n",
    "\n",
    "\n",
    "# 畫製人臉方框\n",
    "i = 0\n",
    "cut_list = []\n",
    "for (x,y,w,h) in faces:\n",
    "    cut_img = img[y:y+h, x:x+w] # 先 y 再 x\n",
    "    cv2.imwrite(\"cut_\"+str(i)+\".jpg\", cut_img)\n",
    "    cut_list.append(\"cut_\"+str(i)+\".jpg\")\n",
    "    i += 1\n",
    "    \n",
    "    #v2.rectangle(img, (x,y), (x+w, y+h), (0,255,0), 2)\n",
    "    #v2.putText(img, str(i), (x, y), cv2.FONT_HERSHEY_SIMPLEX, 1, (0, 255, 255), 1, cv2.LINE_AA)\n",
    "print(cut_list)"
   ]
  },
  {
   "cell_type": "code",
   "execution_count": 22,
   "id": "5c7a73e4",
   "metadata": {},
   "outputs": [
    {
     "name": "stdout",
     "output_type": "stream",
     "text": [
      "ans idx: 3 confidence: 69.52989649816514\n"
     ]
    }
   ],
   "source": [
    "predict_img = cv2.imread('cut_2.jpg', cv2.IMREAD_GRAYSCALE) # 測試考題\n",
    "label, confidence = rec.predict(predict_img)\n",
    "print(\"ans idx:\",label,\"confidence:\", confidence)"
   ]
  },
  {
   "cell_type": "code",
   "execution_count": 26,
   "id": "3a2ba951",
   "metadata": {},
   "outputs": [
    {
     "name": "stdout",
     "output_type": "stream",
     "text": [
      "ans idx: 3 confidence: 75.06574110439642\n",
      "cut_0.jpg  is  Jacky張\n",
      "ans idx: 3 confidence: 63.18910429715401\n",
      "cut_1.jpg  is  Jacky張\n",
      "ans idx: 3 confidence: 69.52989649816514\n",
      "cut_2.jpg  is  Jacky張\n",
      "ans idx: 2 confidence: 67.9133030291186\n",
      "cut_3.jpg  is  Aaron郭\n"
     ]
    }
   ],
   "source": [
    "predict_result = []\n",
    "king_list = [\"Andy劉\",\"Min黎\",\"Aaron郭\",\"Jacky張\"]\n",
    "for cut in cut_list:\n",
    "    predict_img = cv2.imread(cut, cv2.IMREAD_GRAYSCALE) # 測試考題\n",
    "    label, confidence = rec.predict(predict_img)\n",
    "    predict_result.append(king_list[label])\n",
    "    \n",
    "    print(\"ans idx:\",label,\"confidence:\", confidence)\n",
    "    print(cut, \" is \", king_list[label])"
   ]
  },
  {
   "cell_type": "code",
   "execution_count": 28,
   "id": "50899d3d",
   "metadata": {},
   "outputs": [
    {
     "data": {
      "text/plain": [
       "-1"
      ]
     },
     "execution_count": 28,
     "metadata": {},
     "output_type": "execute_result"
    }
   ],
   "source": [
    "ii = 0\n",
    "for (x,y,w,h) in faces:\n",
    "    cv2.rectangle(img, (x,y), (x+w, y+h), (0,255,0), 2)\n",
    "    cv2.putText(img, predict_result[ii], (x, y), cv2.FONT_HERSHEY_SIMPLEX, 1, (0, 255, 255), 1, cv2.LINE_AA)\n",
    "    ii += 1\n",
    "\n",
    "cv2.imshow(\"matchResult\", img)\n",
    "cv2.waitKey()"
   ]
  },
  {
   "cell_type": "code",
   "execution_count": 36,
   "id": "de84daee",
   "metadata": {},
   "outputs": [
    {
     "data": {
      "text/plain": [
       "-1"
      ]
     },
     "execution_count": 36,
     "metadata": {},
     "output_type": "execute_result"
    }
   ],
   "source": [
    "# openCV 使用中文字型 \n",
    "# https://cloud.tencent.com/developer/article/1794474\n",
    "import cv2\n",
    "import numpy as np\n",
    "from PIL import ImageFont, ImageDraw, Image    # 載入 PIL 相關函式庫\n",
    "\n",
    "def cv2ImgAddText(img, text, left, top, textColor=(0, 255, 0), textSize=20):\n",
    "\n",
    "    if (isinstance(img, np.ndarray)):  #判断是否OpenCV图片类型\n",
    "\n",
    "        img = Image.fromarray(cv2.cvtColor(img, cv2.COLOR_BGR2RGB))\n",
    "\n",
    "    draw = ImageDraw.Draw(img)\n",
    "\n",
    "    fontText = ImageFont.truetype(\"font/simsun.ttc\", textSize, encoding=\"utf-8\")\n",
    "\n",
    "    draw.text((left, top), text, textColor, font=fontText)\n",
    "\n",
    "    return cv2.cvtColor(np.asarray(img), cv2.COLOR_RGB2BGR)\n",
    "\n",
    "imgTest = cv2ImgAddText(img, \"大家好\", 140, 60, (255, 255, 0), 20)\n",
    "cv2.imshow('chinese_test', imgTest)\n",
    "cv2.waitKey(0)\n"
   ]
  },
  {
   "cell_type": "code",
   "execution_count": 8,
   "id": "f70132c6",
   "metadata": {},
   "outputs": [
    {
     "name": "stdout",
     "output_type": "stream",
     "text": [
      "ans idx: 3\n",
      "confidence: 52.307229417498775\n"
     ]
    }
   ],
   "source": [
    "predict_img = cv2.imread('4kings.JPG', cv2.IMREAD_GRAYSCALE) # 測試考題\n",
    "\n",
    "label, confidence = rec.predict(predict_img)\n",
    "\n",
    "print(\"ans idx:\",label)\n",
    "print(\"confidence:\", confidence)"
   ]
  },
  {
   "cell_type": "code",
   "execution_count": null,
   "id": "17ec9138",
   "metadata": {},
   "outputs": [],
   "source": []
  }
 ],
 "metadata": {
  "kernelspec": {
   "display_name": "Python 3 (ipykernel)",
   "language": "python",
   "name": "python3"
  },
  "language_info": {
   "codemirror_mode": {
    "name": "ipython",
    "version": 3
   },
   "file_extension": ".py",
   "mimetype": "text/x-python",
   "name": "python",
   "nbconvert_exporter": "python",
   "pygments_lexer": "ipython3",
   "version": "3.11.7"
  }
 },
 "nbformat": 4,
 "nbformat_minor": 5
}
