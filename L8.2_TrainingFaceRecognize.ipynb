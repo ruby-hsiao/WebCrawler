{
 "cells": [
  {
   "cell_type": "code",
   "execution_count": 4,
   "id": "2f4c4cc4",
   "metadata": {},
   "outputs": [
    {
     "name": "stdout",
     "output_type": "stream",
     "text": [
      "[array([[217, 215, 213, ..., 216, 217, 217],\n",
      "       [216, 216, 215, ..., 217, 218, 218],\n",
      "       [217, 217, 218, ..., 217, 218, 219],\n",
      "       ...,\n",
      "       [ 48,  48,  50, ...,  79,  78,  77],\n",
      "       [ 47,  48,  49, ...,  79,  77,  76],\n",
      "       [ 46,  47,  48, ...,  78,  76,  75]], dtype=uint8), array([[219, 218, 217, ..., 213, 214, 216],\n",
      "       [219, 219, 218, ..., 213, 214, 216],\n",
      "       [220, 219, 219, ..., 212, 214, 216],\n",
      "       ...,\n",
      "       [ 28,  28,  30, ...,  78,  88,  95],\n",
      "       [ 25,  24,  24, ...,  73,  83,  92],\n",
      "       [ 24,  23,  23, ...,  68,  80,  89]], dtype=uint8), array([[214, 215, 217, ..., 218, 217, 217],\n",
      "       [214, 214, 215, ..., 215, 215, 215],\n",
      "       [214, 213, 214, ..., 213, 214, 214],\n",
      "       ...,\n",
      "       [ 44,  47,  48, ...,  72,  70,  69],\n",
      "       [ 44,  47,  49, ...,  71,  71,  71],\n",
      "       [ 45,  49,  52, ...,  71,  72,  72]], dtype=uint8), array([[155, 157, 157, ..., 148, 151, 155],\n",
      "       [156, 159, 158, ..., 149, 150, 151],\n",
      "       [158, 160, 160, ..., 148, 149, 147],\n",
      "       ...,\n",
      "       [ 60,  60,  58, ...,  55,  57,  56],\n",
      "       [ 60,  57,  55, ...,  64,  65,  65],\n",
      "       [ 63,  58,  55, ...,  67,  67,  67]], dtype=uint8), array([[163, 159, 160, ..., 181, 182, 183],\n",
      "       [163, 162, 161, ..., 183, 183, 182],\n",
      "       [162, 162, 162, ..., 181, 181, 180],\n",
      "       ...,\n",
      "       [ 30,  30,  30, ...,  54,  56,  50],\n",
      "       [ 36,  26,  28, ...,  51,  53,  48],\n",
      "       [ 39,  29,  29, ...,  51,  51,  48]], dtype=uint8), array([[165, 163, 160, ..., 165, 166, 165],\n",
      "       [161, 161, 160, ..., 164, 164, 165],\n",
      "       [163, 163, 160, ..., 164, 165, 167],\n",
      "       ...,\n",
      "       [ 22,  23,  24, ...,  55,  48,  51],\n",
      "       [ 24,  23,  25, ...,  56,  48,  47],\n",
      "       [ 26,  24,  25, ...,  58,  51,  45]], dtype=uint8)]\n",
      "<class 'list'> <class 'numpy.ndarray'>\n",
      "img len=6\n"
     ]
    }
   ],
   "source": [
    "# 6張照片2種人臉訓練\n",
    "\n",
    "import cv2\n",
    "import numpy as np # list to array\n",
    "\n",
    "\n",
    "img  = [] # 考古題\n",
    "img.append(cv2.imread('c1.jpg',cv2.IMREAD_GRAYSCALE))\n",
    "img.append(cv2.imread('c2.jpg',cv2.IMREAD_GRAYSCALE))\n",
    "img.append(cv2.imread('c3.jpg',cv2.IMREAD_GRAYSCALE))\n",
    "img.append(cv2.imread('d1.jpg',cv2.IMREAD_GRAYSCALE))\n",
    "img.append(cv2.imread('d2.jpg',cv2.IMREAD_GRAYSCALE))\n",
    "img.append(cv2.imread('d3.jpg',cv2.IMREAD_GRAYSCALE))\n",
    "\n",
    "\n",
    "print(img)\n",
    "print(type(img), type(img[0]))\n",
    "print(\"img len=\"+str(len(img)))\n",
    "\n",
    "# 答案卷: begin from 0 index, len(img) = len(labels)\n",
    "labels = [0,0,0,1,1,1] # 前三張同一人 idx=0,後三張第2人 idx=1\n",
    "\n",
    "rec = cv2.face.LBPHFaceRecognizer_create()\n",
    "rec.train(img, np.array(labels)) "
   ]
  },
  {
   "cell_type": "code",
   "execution_count": 12,
   "id": "3f1bf12d",
   "metadata": {},
   "outputs": [
    {
     "name": "stdout",
     "output_type": "stream",
     "text": [
      "ans idx: 0\n",
      "confidence: 1.8099379919169658\n"
     ]
    }
   ],
   "source": [
    "predict_img = cv2.imread('c4.jpg', cv2.IMREAD_GRAYSCALE) # 測試考題\n",
    "\n",
    "# predic function return 2 object, 接近哪個答案0/1 與 把握度接近 0 代表越準確(<10 都算準)\n",
    "label, confidence = rec.predict(predict_img)\n",
    "\n",
    "print(\"ans idx:\",label)\n",
    "print(\"confidence:\", confidence)"
   ]
  },
  {
   "cell_type": "code",
   "execution_count": 11,
   "id": "fcc8cf34",
   "metadata": {},
   "outputs": [
    {
     "name": "stdout",
     "output_type": "stream",
     "text": [
      "辨識為: 戴小姐\n"
     ]
    }
   ],
   "source": [
    "name_list = [\"孫善堂\",\"戴小姐\"]\n",
    "print(\"辨識為:\", name_list[label])"
   ]
  },
  {
   "cell_type": "code",
   "execution_count": null,
   "id": "ed5b72ed",
   "metadata": {},
   "outputs": [],
   "source": []
  }
 ],
 "metadata": {
  "kernelspec": {
   "display_name": "Python 3 (ipykernel)",
   "language": "python",
   "name": "python3"
  },
  "language_info": {
   "codemirror_mode": {
    "name": "ipython",
    "version": 3
   },
   "file_extension": ".py",
   "mimetype": "text/x-python",
   "name": "python",
   "nbconvert_exporter": "python",
   "pygments_lexer": "ipython3",
   "version": "3.11.7"
  }
 },
 "nbformat": 4,
 "nbformat_minor": 5
}
